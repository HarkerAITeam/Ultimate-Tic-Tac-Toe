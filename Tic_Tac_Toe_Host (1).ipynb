{
  "nbformat": 4,
  "nbformat_minor": 0,
  "metadata": {
    "colab": {
      "provenance": []
    },
    "kernelspec": {
      "name": "python3",
      "display_name": "Python 3"
    },
    "language_info": {
      "name": "python"
    }
  },
  "cells": [
    {
      "cell_type": "markdown",
      "source": [
        "Week 1: Tic-Tac-Toe AI"
      ],
      "metadata": {
        "id": "bi0vRb0gYbrv"
      }
    },
    {
      "cell_type": "markdown",
      "source": [
        "This week we will be creating the ultimate Tic-Tac-Toe player. You are to code an AI of any form which will learn how to proficiently play the game. The AI will be pitted against each other in a competetion using this notebook as the host server."
      ],
      "metadata": {
        "id": "NV2v8bXMYqza"
      }
    },
    {
      "cell_type": "markdown",
      "source": [
        "Requirements:\n",
        "\n",
        "1. Your player must actually learn how to play the game using machine learning AI, not be rule based AI.\n",
        "\n",
        "2. While in the future this may change, a board is currently a 3x3 array of numbers 0-2 inclusive representing the states of each of the spots on the board. Your player must change the position it wants to move onto in the board to be the number in a variable called color. In our case, 1 will represent red aka x and 2 will represent blue aka o. 0 just means blank. Make sure the AI only changes spots on the board to the number 1 if color is 1 or the number 2 if color is 2.\n",
        "\n",
        "3. Your player must interact properly with this notebook in order to participate in this competition."
      ],
      "metadata": {
        "id": "MmYb0-TsZkgW"
      }
    },
    {
      "cell_type": "markdown",
      "source": [
        "Competition Rules:\n",
        "\n",
        "Each person's AI will play with every other AI. Everyone will add up there total points from each match. Whoever has the most points in total by the end wins.\n",
        "\n",
        "In each individual matchup the AI play two hundred thousand games between them. There will be a set of a hundred thousand games with player 1 going first, and then a hundred thousand with player two going first. This won't take as long as you think since only the first and last 10 games of each set will be shown visually. A player gets 2 points for a win, 1 for a tie, and 0 for a loss. The players will add the points to their total."
      ],
      "metadata": {
        "id": "eEsTHlgcfnKA"
      }
    },
    {
      "cell_type": "markdown",
      "source": [
        "# Utilities"
      ],
      "metadata": {
        "id": "rpUMT_uGy0zo"
      }
    },
    {
      "cell_type": "code",
      "source": [
        "#pretty print function and other libraries\n",
        "# This funtion visualizes game states. It should run correctly along with your code as long as you give it the right input. This method takes in a board, a 3x3 array of integers from 0 to 2 inclusive. A zero means neither x nor o, blank, and will display white. A one means x and will display red. A two means o and will display blue.\n",
        "\n",
        "import matplotlib.pyplot as plt\n",
        "from matplotlib import colors\n",
        "import numpy as np\n",
        "\n",
        "def pretty_print(board):\n",
        "  fig, ax = plt.subplots()\n",
        "  cmap = colors.ListedColormap(['white', 'red', 'blue'])\n",
        "  bounds = [-0.5,0.5,1.5,2.5]\n",
        "  norm = colors.BoundaryNorm(bounds, cmap.N)\n",
        "\n",
        "  ax.imshow(np.array(board).reshape((3,3)), cmap=cmap, norm=norm)\n",
        "\n",
        "  ax.grid(which='major', axis='both', linestyle='-', color='k', linewidth=2)\n",
        "  ax.set_xticks(np.arange(-.5, 3, 1));\n",
        "  ax.set_yticks(np.arange(-.5, 3, 1));\n",
        "\n",
        "  plt.show()"
      ],
      "metadata": {
        "id": "L5wZcTJ_hp91"
      },
      "execution_count": null,
      "outputs": []
    },
    {
      "cell_type": "markdown",
      "source": [
        "# Define AI Models"
      ],
      "metadata": {
        "id": "Piq_bG98yXzG"
      }
    },
    {
      "cell_type": "code",
      "source": [
        "from abc import ABC, abstractmethod\n",
        "class ModelWrapper(ABC):\n",
        "  \"\"\"wrapper for all tic-tac-toe models\"\"\"\n",
        "  def __init__(self):\n",
        "    self.points = 0\n",
        "  @abstractmethod\n",
        "  def move(self, board):\n",
        "    pass\n",
        "  @abstractmethod\n",
        "  def train(self, result):\n",
        "    pass"
      ],
      "metadata": {
        "id": "4Yn8K5qS-HPi"
      },
      "execution_count": null,
      "outputs": []
    },
    {
      "cell_type": "code",
      "source": [
        "class ExampleModel(ModelWrapper):\n",
        "  \"\"\"dumb model that will always play at (0, 0)\"\"\"\n",
        "  def move(self, board):\n",
        "    return (0, 0)"
      ],
      "metadata": {
        "id": "bsortYp5-oiX"
      },
      "execution_count": null,
      "outputs": []
    },
    {
      "cell_type": "markdown",
      "source": [
        "# Minimax Implementation for Testing"
      ],
      "metadata": {
        "id": "ohLtOQB6yfxY"
      }
    },
    {
      "cell_type": "code",
      "source": [
        "import copy\n",
        "class Board:\n",
        "  def __init__(self, board=[[0, 0, 0], [0, 0, 0], [0, 0, 0]]):\n",
        "    self.board = board\n",
        "  def move(self, pos, color):\n",
        "    new_board = copy.deepcopy(self.board)\n",
        "    new_board[pos[0]][pos[1]] = color\n",
        "    return Board(new_board)\n",
        "  def check_row(self, i):\n",
        "    for j in range(3):\n",
        "      if self.board[i][j] != self.board[i][0]:\n",
        "        return 0\n",
        "    return self.board[i][0]\n",
        "  def check_col(self, j):\n",
        "    for i in range(3):\n",
        "      if self.board[i][j] != self.board[0][j]:\n",
        "        return 0\n",
        "    return self.board[0][j]\n",
        "  def winner(self) -> int:\n",
        "    for i in range(3):\n",
        "      if self.check_row(i) > 0:\n",
        "        return self.check_row(i)\n",
        "      if self.check_col(i) > 0:\n",
        "        return self.check_col(i)\n",
        "    if self.board[0][0] != 0:\n",
        "      works = True\n",
        "      for i in range(3):\n",
        "        if self.board[i][i] != self.board[0][0]:\n",
        "          works = False\n",
        "          break\n",
        "      if works:\n",
        "        return self.board[0][0]\n",
        "    if self.board[0][2] != 0:\n",
        "      works = True\n",
        "      for i in range(3):\n",
        "        if self.board[i][2 - i] != self.board[0][2]:\n",
        "          works = False\n",
        "          break\n",
        "      if works:\n",
        "        return self.board[0][2]\n",
        "    for i in range(3):\n",
        "      for j in range(3):\n",
        "        if self.board[i][j] == 0:\n",
        "          return 0\n",
        "    return 3\n",
        "  def __getitem__(self, index):\n",
        "    return self.board[index]\n",
        "  def __str__(self) -> str:\n",
        "    return str(self.board)\n",
        "  def __hash__(self):\n",
        "    return hash(str(self.board))\n",
        "  def __eq__(self, other):\n",
        "    return self.board == other.board"
      ],
      "metadata": {
        "id": "T2EQ4iRsx0Iu"
      },
      "execution_count": null,
      "outputs": []
    },
    {
      "cell_type": "code",
      "source": [
        "class Minimax(ModelWrapper):\n",
        "  def __init__(self):\n",
        "    self.cache = {}\n",
        "    self.next_move = {}\n",
        "    self.search(Board(), 1)\n",
        "  def search(self, state: Board, color) -> int:\n",
        "    # print(state)\n",
        "    if state in self.cache:\n",
        "      return self.cache[state]\n",
        "    elif state.winner() > 0:\n",
        "      # print(state)\n",
        "      self.next_move[state] = (-1, -1)\n",
        "      W = state.winner()\n",
        "      if W == 3:\n",
        "        self.cache[state] = 0\n",
        "      elif W == color:\n",
        "        self.cache[state] = 1\n",
        "      else:\n",
        "        self.cache[state] = -1\n",
        "      return self.cache[state]\n",
        "    else:\n",
        "      mn = 2\n",
        "      next_color = 1 if color == 2 else 2\n",
        "      for i in range(3):\n",
        "        for j in range(3):\n",
        "          if state[i][j] != 0:\n",
        "            continue\n",
        "          next_state = state.move((i, j), color)\n",
        "          if self.search(next_state, next_color) < mn:\n",
        "            mn = self.cache[next_state]\n",
        "            self.next_move[state] = (i, j)\n",
        "      self.cache[state] = -mn\n",
        "      return self.cache[state]\n",
        "  def move(self, board):\n",
        "    return self.next_move[Board(board)]\n",
        "    # ^ to use this with the central host, uncomment the line above and comment the line below\n",
        "    # return self.next_move[board]\n",
        "  def train(self, result):\n",
        "    pass"
      ],
      "metadata": {
        "id": "xAj2TBphxzE9"
      },
      "execution_count": null,
      "outputs": []
    },
    {
      "cell_type": "code",
      "source": [
        "minimax = Minimax()\n",
        "minimax.move([[0, 0, 0], [0, 0, 0], [0, 0, 0]])"
      ],
      "metadata": {
        "colab": {
          "base_uri": "https://localhost:8080/"
        },
        "id": "a745lwM-x9h_",
        "outputId": "64b9811f-0891-48c8-823c-e9e85bae6604"
      },
      "execution_count": null,
      "outputs": [
        {
          "output_type": "execute_result",
          "data": {
            "text/plain": [
              "(0, 0)"
            ]
          },
          "metadata": {},
          "execution_count": 8
        }
      ]
    },
    {
      "cell_type": "markdown",
      "source": [
        "# Controller"
      ],
      "metadata": {
        "id": "NO5bENF8ymOM"
      }
    },
    {
      "cell_type": "code",
      "source": [
        "class Controller:\n",
        "  def __init__(self, verbose: bool):\n",
        "    self.board = [\n",
        "        [0, 0, 0],\n",
        "        [0, 0, 0],\n",
        "        [0, 0, 0]\n",
        "    ]\n",
        "    self.verbose = verbose\n",
        "  def play(self, move: tuple[int, int], color):\n",
        "    \"\"\"attempt to play move defined by tuple (x, y)\"\"\"\n",
        "    if self.board[move[0]][move[1]] != 0:\n",
        "      if self.verbose:\n",
        "        print(\"Illegal move detected.\")\n",
        "        self.show_board()\n",
        "        print(f\"AI {color} attempted to play a move at {move}\")\n",
        "      return False\n",
        "    else:\n",
        "      self.board[move[0]][move[1]] = color\n",
        "      if self.verbose:\n",
        "        self.show_board()\n",
        "      return True\n",
        "\n",
        "\n",
        "  #This is the host function for checking if the game has ended\n",
        "  def checkIfDone(self):\n",
        "    \"\"\"\n",
        "    1->Player 1 wins\n",
        "    2->Player 2 wins\n",
        "    0->Draw\n",
        "    -1->Unfinished\n",
        "    \"\"\"\n",
        "    # check horizontal spaces\n",
        "    for row in self.board:\n",
        "        if row.count(row[0]) == len(row) and row[0] != 0:\n",
        "            return row[0]\n",
        "\n",
        "    # check vertical spaces\n",
        "    for col in range(len(self.board[0])):\n",
        "        check = []\n",
        "        for row in self.board:\n",
        "            check.append(row[col])\n",
        "        if check.count(check[0]) == len(check) and check[0] != 0:\n",
        "            return check[0]\n",
        "\n",
        "    # check / diagonal spaces\n",
        "    if self.board[0][0] != 0 and self.board[0][0] == self.board[1][1] == self.board[2][2]:\n",
        "        return self.board[0][0]\n",
        "\n",
        "    # check \\ diagonal spaces\n",
        "    if self.board[0][2] != 0 and self.board[0][2] == self.board[1][1] == self.board[2][0]:\n",
        "        return self.board[0][2]\n",
        "\n",
        "    # check if board is full (draw)\n",
        "    if all(all(row) for row in self.board):\n",
        "        return 0\n",
        "\n",
        "    # if the game is not over, return -1\n",
        "    return -1\n",
        "  def show_board(self):\n",
        "    pretty_print(self.board)"
      ],
      "metadata": {
        "id": "4GzS3oq3jxgd"
      },
      "execution_count": null,
      "outputs": []
    },
    {
      "cell_type": "markdown",
      "source": [
        "# Runner"
      ],
      "metadata": {
        "id": "qXGN47zrys0v"
      }
    },
    {
      "cell_type": "code",
      "source": [
        "#Main runner. No need to change anything just run.\n",
        "import copy\n",
        "from enum import Enum\n",
        "player1_points = 0\n",
        "player2_points = 0\n",
        "visible_buffer_games=1\n",
        "invisible_games=10000\n",
        "illegal = False\n",
        "class Result(Enum):\n",
        "    WIN = 1\n",
        "    LOSS = 2\n",
        "    DRAW = 3\n",
        "    ILLEGAL = 4\n",
        "def run_episode(verbose: bool, first, second, train=True)->Result:\n",
        "  cnt = 0\n",
        "  controller = Controller(verbose=verbose)\n",
        "  # illegal = False\n",
        "  # result = 0\n",
        "  p1 = None\n",
        "  p2 = None\n",
        "  while controller.checkIfDone() == -1:\n",
        "    first_move = first.move(controller.get_board())\n",
        "    if controller.play(first_move, 1) == False:\n",
        "      p1 = Result.ILLEGAL\n",
        "      p2 = Result.WIN\n",
        "      # result = -illegal_penalty\n",
        "      break\n",
        "    cnt += 1\n",
        "    if controller.checkIfDone()== -1:\n",
        "      second_move = second.move(controller.get_board())\n",
        "      if controller.play(second_move, 2) == False:\n",
        "        p1 = Result.WIN\n",
        "        p2 = Result.ILLEGAL\n",
        "        # result = illegal_penalty\n",
        "        break\n",
        "      cnt += 1\n",
        "  if p1 == None:\n",
        "    winner = controller.checkIfDone()\n",
        "    if winner == 1:\n",
        "      p1 = Result.WIN\n",
        "      p2 = Result.LOSS\n",
        "    elif winner == 2:\n",
        "      p1 = Result.LOSS\n",
        "      p2 = Result.WIN\n",
        "    else:\n",
        "      p1 = Result.DRAW\n",
        "      p2 = Result.DRAW\n",
        "    if verbose:\n",
        "      controller.show_board()\n",
        "  if p1 == Result.DRAW:\n",
        "    first.points += 1\n",
        "    second.points += 1\n",
        "    if verbose:\n",
        "      print(\"game was drawn\")\n",
        "  if p1 == Result.WIN:\n",
        "    first.points += 2\n",
        "    if verbose:\n",
        "      print(\"player 1 won\")\n",
        "  elif p2 == Result.WIN:\n",
        "    second.points += 2\n",
        "    if verbose:\n",
        "      print(\"player 2 won\")\n",
        "  if train:\n",
        "    first.train(p1)\n",
        "    second.train(p2)\n",
        "\n",
        "print(\"Player 1 First Games:\")\n",
        "for x in range(visible_buffer_games):\n",
        "  run_episode(verbose=True, first=player1, second=player2)\n",
        "\n",
        "print(\"Invisible Games Playing...\")\n",
        "\n",
        "for x in range(invisible_games):\n",
        "  run_episode(verbose=False, first=player1, second=player2)\n",
        "\n",
        "for x in range(visible_buffer_games):\n",
        "  run_episode(verbose=True, first=player1, second=player2)\n",
        "\n",
        "print(\"Player 1 Points:\", player1_points)\n",
        "print(\"Player 2 Points:\", player2_points)\n",
        "print(\"Player 2 First Games:\")\n",
        "for x in range(visible_buffer_games):\n",
        "  run_episode(verbose=True, first=player2, second=player1)\n",
        "\n",
        "print(\"Invisible Games Playing...\")\n",
        "\n",
        "for x in range(invisible_games):\n",
        "  run_episode(verbose=False, first=player2, second=player1)\n",
        "\n",
        "for x in range(visible_buffer_games):\n",
        "  run_episode(verbose=True, first=player2, second=player1)\n",
        "print(\"Player 1 Points:\", player1_points)\n",
        "print(\"Player 2 Points:\", player2_points)\n",
        "print(\"Game Over\")"
      ],
      "metadata": {
        "id": "jxVt_L2weemt",
        "colab": {
          "base_uri": "https://localhost:8080/",
          "height": 268
        },
        "outputId": "1cfe1685-fcd1-43f6-a76f-b1038a60b13e"
      },
      "execution_count": null,
      "outputs": [
        {
          "output_type": "stream",
          "name": "stdout",
          "text": [
            "Player 1 First Games:\n"
          ]
        },
        {
          "output_type": "error",
          "ename": "NameError",
          "evalue": "ignored",
          "traceback": [
            "\u001b[0;31m---------------------------------------------------------------------------\u001b[0m",
            "\u001b[0;31mNameError\u001b[0m                                 Traceback (most recent call last)",
            "\u001b[0;32m<ipython-input-1-76143a1858e7>\u001b[0m in \u001b[0;36m<cell line: 68>\u001b[0;34m()\u001b[0m\n\u001b[1;32m     67\u001b[0m \u001b[0mprint\u001b[0m\u001b[0;34m(\u001b[0m\u001b[0;34m\"Player 1 First Games:\"\u001b[0m\u001b[0;34m)\u001b[0m\u001b[0;34m\u001b[0m\u001b[0;34m\u001b[0m\u001b[0m\n\u001b[1;32m     68\u001b[0m \u001b[0;32mfor\u001b[0m \u001b[0mx\u001b[0m \u001b[0;32min\u001b[0m \u001b[0mrange\u001b[0m\u001b[0;34m(\u001b[0m\u001b[0mvisible_buffer_games\u001b[0m\u001b[0;34m)\u001b[0m\u001b[0;34m:\u001b[0m\u001b[0;34m\u001b[0m\u001b[0;34m\u001b[0m\u001b[0m\n\u001b[0;32m---> 69\u001b[0;31m   \u001b[0mrun_episode\u001b[0m\u001b[0;34m(\u001b[0m\u001b[0mverbose\u001b[0m\u001b[0;34m=\u001b[0m\u001b[0;32mTrue\u001b[0m\u001b[0;34m,\u001b[0m \u001b[0mfirst\u001b[0m\u001b[0;34m=\u001b[0m\u001b[0mplayer1\u001b[0m\u001b[0;34m,\u001b[0m \u001b[0msecond\u001b[0m\u001b[0;34m=\u001b[0m\u001b[0mplayer2\u001b[0m\u001b[0;34m)\u001b[0m\u001b[0;34m\u001b[0m\u001b[0;34m\u001b[0m\u001b[0m\n\u001b[0m\u001b[1;32m     70\u001b[0m \u001b[0;34m\u001b[0m\u001b[0m\n\u001b[1;32m     71\u001b[0m \u001b[0mprint\u001b[0m\u001b[0;34m(\u001b[0m\u001b[0;34m\"Invisible Games Playing...\"\u001b[0m\u001b[0;34m)\u001b[0m\u001b[0;34m\u001b[0m\u001b[0;34m\u001b[0m\u001b[0m\n",
            "\u001b[0;31mNameError\u001b[0m: name 'player1' is not defined"
          ]
        }
      ]
    }
  ]
}